{
 "cells": [
  {
   "cell_type": "markdown",
   "metadata": {},
   "source": "# Gist Memory Colab Demo\n\nThis notebook shows how to install and run the Gist Memory Agent on Google Colab."
  },
  {
   "cell_type": "code",
   "metadata": {},
   "execution_count": null,
   "outputs": [],
   "source": "# Install the package and its dependencies\n!git clone https://github.com/scottfalconer/gist-memory.git\n%cd gist-memory\n!pip install -e .\n!python -m spacy download en_core_web_sm\n!gist-memory download-model --model-name all-MiniLM-L6-v2\n!gist-memory download-chat-model --model-name distilgpt2"
  },
  {
   "cell_type": "code",
   "metadata": {},
   "execution_count": null,
   "outputs": [],
   "source": "from pathlib import Path\nfrom gist_memory import Agent, JsonNpyVectorStore\nfrom gist_memory.embedding_pipeline import get_embedding_dim\n\nfolder = Path('examples/moon_landing')\ntexts = [p.read_text() for p in sorted(folder.glob('*.txt'))]\n\npath = Path('brain')\nif (path / 'meta.yaml').exists():\n    store = JsonNpyVectorStore(str(path))\nelse:\n    dim = get_embedding_dim()\n    store = JsonNpyVectorStore(str(path), embedding_model='all-MiniLM-L6-v2', embedding_dim=dim)\n\nagent = Agent(store)\n\nfor text in texts:\n    results = agent.add_memory(text)\n    for res in results:\n        action = 'Created' if res.get('spawned') else 'Updated'\n        pid = res.get('prototype_id')\n        print(f"{action} prototype {pid}")\n\nprint('\nTotal memories:', len(agent.store.memories))\nprint('Total prototypes:', len(agent.store.prototypes))"
  },
  {
   "cell_type": "code",
   "metadata": {},
   "execution_count": null,
   "outputs": [],
   "source": "result = agent.query('What did Armstrong say?')\nprint('Nearest prototypes:')\nfor p in result['prototypes']:\n    print(p)\n\nprint('\nTop memories:')\nfor m in result['memories']:\n    print(m['text'], 'similarity=', round(m['sim'], 2))"
  }
 ],
 "metadata": {
  "kernelspec": {
   "display_name": "Python 3",
   "language": "python",
   "name": "python3"
  },
  "language_info": {
   "name": "python",
   "version": "3.x"
  }
 },
 "nbformat": 4,
 "nbformat_minor": 5
}
